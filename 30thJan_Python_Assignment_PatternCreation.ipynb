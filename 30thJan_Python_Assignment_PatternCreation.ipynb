{
 "cells": [
  {
   "cell_type": "markdown",
   "id": "ed9da875-0551-4ea8-ae58-a6f815245196",
   "metadata": {},
   "source": [
    "## Assignment\n",
    "### 30th Jan, 2023"
   ]
  },
  {
   "cell_type": "code",
   "execution_count": 12,
   "id": "94c57533-8d0a-4ca5-866b-a05db9fec1f8",
   "metadata": {
    "tags": []
   },
   "outputs": [],
   "source": [
    "# To create the following pattern basis on the input of number of rows from the user  \n",
    "#    *\n",
    "#   ***\n",
    "#  *****\n",
    "# *******"
   ]
  },
  {
   "cell_type": "code",
   "execution_count": 13,
   "id": "1ca21826-26f5-4abd-8eff-1c255b08a0d7",
   "metadata": {},
   "outputs": [
    {
     "name": "stdin",
     "output_type": "stream",
     "text": [
      "Enter the number of rows: 8\n"
     ]
    },
    {
     "name": "stdout",
     "output_type": "stream",
     "text": [
      "       *\n",
      "      ***\n",
      "     *****\n",
      "    *******\n",
      "   *********\n",
      "  ***********\n",
      " *************\n",
      "***************\n"
     ]
    }
   ],
   "source": [
    "#Input the number of rows in the pattern\n",
    "n=int(input(\"Enter the number of rows:\"))\n",
    "#Loop for the number of rows\n",
    "for i in range(0,n):\n",
    "#Loop to feed in the blanks before the asterick in each row\n",
    "    for j in range(0,n-1-i):\n",
    "        print(\" \",end=\"\")\n",
    "#Loop to place asterick in each row\n",
    "    for j in range(0,1+i*2):\n",
    "        print(\"*\",end=\"\")\n",
    "    print(\"\\r\")  "
   ]
  },
  {
   "cell_type": "code",
   "execution_count": null,
   "id": "648c626f-9da0-47c2-9fcd-295ebdfe4449",
   "metadata": {},
   "outputs": [],
   "source": []
  }
 ],
 "metadata": {
  "kernelspec": {
   "display_name": "Python 3 (ipykernel)",
   "language": "python",
   "name": "python3"
  },
  "language_info": {
   "codemirror_mode": {
    "name": "ipython",
    "version": 3
   },
   "file_extension": ".py",
   "mimetype": "text/x-python",
   "name": "python",
   "nbconvert_exporter": "python",
   "pygments_lexer": "ipython3",
   "version": "3.10.8"
  }
 },
 "nbformat": 4,
 "nbformat_minor": 5
}
