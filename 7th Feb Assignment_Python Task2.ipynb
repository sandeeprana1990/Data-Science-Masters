{
 "cells": [
  {
   "cell_type": "markdown",
   "id": "990fe1e7-7a94-4a40-8611-a1a6c7bdfa72",
   "metadata": {},
   "source": [
    "#### Question 1"
   ]
  },
  {
   "cell_type": "code",
   "execution_count": 56,
   "id": "407a06ea-8280-4a75-a751-2820504dc452",
   "metadata": {},
   "outputs": [],
   "source": [
    "# Q1. You are writing code for a company. The requirement of the company is that you create a python\n",
    "# function that will check whether the password entered by the user is correct or not. The function should\n",
    "# take the password as input and return the string “Valid Password” if the entered password follows the\n",
    "# below-given password guidelines else it should return “Invalid Password”.\n",
    "# Note: 1. The Password should contain at least two uppercase letters and at least two lowercase letters.\n",
    "# 2. The Password should contain at least a number and three special characters.\n",
    "# 3. The length of the password should be 10 characters long."
   ]
  },
  {
   "cell_type": "markdown",
   "id": "4378daee-b4ac-459f-af3e-6eed34173654",
   "metadata": {},
   "source": [
    "#### Solution 1"
   ]
  },
  {
   "cell_type": "code",
   "execution_count": 57,
   "id": "fcc147c1-9331-48ee-8b8c-392d947f3d91",
   "metadata": {},
   "outputs": [],
   "source": [
    "def check_pwd(input_str):\n",
    "    u,l,n,s=0,0,0,0\n",
    "    for i in input_str:\n",
    "        if i.isupper()==True:\n",
    "            u=u+1\n",
    "        elif i.islower()==True:\n",
    "            l=l+1\n",
    "        elif ord(i)>=48 and ord(i)<=57:\n",
    "            n=n+1\n",
    "        else:\n",
    "            s=s+1\n",
    "    \n",
    "    if u>=2 and l>=2 and n>=1 and s>=3 and len(input_str)==10 and \" \" not in input_str:\n",
    "        return \"Valid Password\"\n",
    "    else:\n",
    "        return \"Invalid Password\""
   ]
  },
  {
   "cell_type": "code",
   "execution_count": 58,
   "id": "972c7d5f-cbb6-4e90-a503-ad429d25aca5",
   "metadata": {},
   "outputs": [
    {
     "name": "stdin",
     "output_type": "stream",
     "text": [
      "Enter the password : ABcd&*(1as\n"
     ]
    },
    {
     "data": {
      "text/plain": [
       "'Valid Password'"
      ]
     },
     "execution_count": 58,
     "metadata": {},
     "output_type": "execute_result"
    }
   ],
   "source": [
    "pwd=input(\"Enter the password :\")\n",
    "check_pwd(pwd)"
   ]
  },
  {
   "cell_type": "markdown",
   "id": "6cb6e5fa-e390-498b-86ae-3f5637f890b0",
   "metadata": {},
   "source": [
    "#### Question 2"
   ]
  },
  {
   "cell_type": "code",
   "execution_count": 59,
   "id": "22bb43d5-7c28-424a-801e-1b0cb86669e7",
   "metadata": {},
   "outputs": [],
   "source": [
    "# Q2. Solve the below-given questions using at least one of the following:\n",
    "# 1. Lambda function\n",
    "# 2. Filter function\n",
    "# 3. Map function\n",
    "# 4. List Comprehension\n",
    "# Check if the string starts with a particular letter.\n",
    "# Check if the string is numeric.\n",
    "# Sort a list of tuples having fruit names and their quantity. [(\"mango\",99),(\"orange\",80), (\"grapes\", 1000)]\n",
    "# Find the squares of numbers from 1 to 10.\n",
    "# Find the cube root of numbers from 1 to 10.\n",
    "# Check if a given number is even.\n",
    "# Filter odd numbers from the given list.\n",
    "# [1,2,3,4,5,6,7,8,9,10]\n",
    "# Sort a list of integers into positive and negative integers lists.\n",
    "# [1,2,3,4,5,6,-1,-2,-3,-4,-5,0]"
   ]
  },
  {
   "cell_type": "markdown",
   "id": "695a0d79-1b70-4ac8-83eb-c9ccf11485e1",
   "metadata": {},
   "source": [
    "#### Solution 2"
   ]
  },
  {
   "cell_type": "code",
   "execution_count": 65,
   "id": "358431dd-fb91-4ff8-94ea-2ff20e012cec",
   "metadata": {},
   "outputs": [
    {
     "name": "stdin",
     "output_type": "stream",
     "text": [
      "Enter the string to be evaluated : Check the string\n",
      "Enter the letter to be checked C\n"
     ]
    },
    {
     "data": {
      "text/plain": [
       "'Yes'"
      ]
     },
     "execution_count": 65,
     "metadata": {},
     "output_type": "execute_result"
    }
   ],
   "source": [
    "# Check if the string starts with a particular letter\n",
    "input_str=input(\"Enter the string to be evaluated :\")\n",
    "letter=input(\"Enter the letter to be checked\")\n",
    "func=(lambda a:\"Yes\" if a[0].lower()==letter.lower() else \"No\")\n",
    "func(input_str)"
   ]
  },
  {
   "cell_type": "code",
   "execution_count": 66,
   "id": "9aec060b-3b93-47f9-84dc-1a7301a5ac0d",
   "metadata": {},
   "outputs": [
    {
     "name": "stdin",
     "output_type": "stream",
     "text": [
      "Enter the string to be evaluated :  1234\n"
     ]
    },
    {
     "data": {
      "text/plain": [
       "'Yes'"
      ]
     },
     "execution_count": 66,
     "metadata": {},
     "output_type": "execute_result"
    }
   ],
   "source": [
    "# Check if the string is numeric.\n",
    "input_str=input(\"Enter the string to be evaluated : \")\n",
    "f1=(lambda i:\"Yes\" if i.isnumeric() else \"No\")\n",
    "f1(input_str)"
   ]
  },
  {
   "cell_type": "code",
   "execution_count": 67,
   "id": "e7a2b2d8-9824-4304-b4ad-c88af00e03aa",
   "metadata": {},
   "outputs": [
    {
     "name": "stdout",
     "output_type": "stream",
     "text": [
      "[('orange', 80), ('mango', 99), ('grapes', 1000)]\n"
     ]
    }
   ],
   "source": [
    "# Sort a list of tuples having fruit names and their quantity. [(\"mango\",99),(\"orange\",80), (\"grapes\", 1000)]\n",
    "t=[(\"mango\",99),(\"orange\",80), (\"grapes\", 1000)]\n",
    "t.sort(key=lambda x:x[1])\n",
    "print(t)"
   ]
  },
  {
   "cell_type": "code",
   "execution_count": 68,
   "id": "fda8d679-0b84-40b7-ad33-b55d6d2cf289",
   "metadata": {},
   "outputs": [
    {
     "data": {
      "text/plain": [
       "[1, 4, 9, 16, 25, 36, 49, 64, 81, 100]"
      ]
     },
     "execution_count": 68,
     "metadata": {},
     "output_type": "execute_result"
    }
   ],
   "source": [
    "# Find the squares of numbers from 1 to 10.\n",
    "list(map(lambda x:x**2,range(1,11)))"
   ]
  },
  {
   "cell_type": "code",
   "execution_count": 69,
   "id": "0606e1fd-4e83-447a-9216-ef87ca6510af",
   "metadata": {},
   "outputs": [
    {
     "data": {
      "text/plain": [
       "[1.0,\n",
       " 1.2599210498948732,\n",
       " 1.4422495703074083,\n",
       " 1.5874010519681994,\n",
       " 1.7099759466766968,\n",
       " 1.8171205928321397,\n",
       " 1.912931182772389,\n",
       " 2.0,\n",
       " 2.080083823051904,\n",
       " 2.154434690031884]"
      ]
     },
     "execution_count": 69,
     "metadata": {},
     "output_type": "execute_result"
    }
   ],
   "source": [
    "# Find the cube root of numbers from 1 to 10.\n",
    "list(map(lambda x:x**(1/3),range(1,11)))"
   ]
  },
  {
   "cell_type": "code",
   "execution_count": 70,
   "id": "d69fcea7-fdfb-4861-ba85-41a69a6e9005",
   "metadata": {},
   "outputs": [],
   "source": [
    "# Check if a given number is even.\n",
    "f2=lambda x:\"Even\" if x%2==0 else \"Not Even\""
   ]
  },
  {
   "cell_type": "code",
   "execution_count": 72,
   "id": "3e45e27a-594c-4b7e-a143-231b26781b96",
   "metadata": {},
   "outputs": [
    {
     "name": "stdin",
     "output_type": "stream",
     "text": [
      "Enter the number to be checked: 56\n"
     ]
    },
    {
     "data": {
      "text/plain": [
       "'Even'"
      ]
     },
     "execution_count": 72,
     "metadata": {},
     "output_type": "execute_result"
    }
   ],
   "source": [
    "inp=int(input(\"Enter the number to be checked:\"))\n",
    "f2(inp)"
   ]
  },
  {
   "cell_type": "code",
   "execution_count": 73,
   "id": "e81e34e5-6004-4d27-9ebd-8f1d5789ef57",
   "metadata": {},
   "outputs": [
    {
     "data": {
      "text/plain": [
       "[1, 3, 5, 7, 9]"
      ]
     },
     "execution_count": 73,
     "metadata": {},
     "output_type": "execute_result"
    }
   ],
   "source": [
    "# Filter odd numbers from the given list.\n",
    "# [1,2,3,4,5,6,7,8,9,10]\n",
    "l=[1,2,3,4,5,6,7,8,9,10]\n",
    "list(filter(lambda x:x%2!=0,l))"
   ]
  },
  {
   "cell_type": "code",
   "execution_count": 74,
   "id": "3f16146b-1763-4f72-b11f-3c2f867f7c7b",
   "metadata": {},
   "outputs": [
    {
     "name": "stdout",
     "output_type": "stream",
     "text": [
      "Positive integer list : [1, 2, 3, 4, 5, 6]\n",
      "Negative integer list : [-1, -2, -3, -4, -5]\n",
      "Number of zeroes in the input list which didnt appear in either lists : 1\n"
     ]
    }
   ],
   "source": [
    "# Sort a list of integers into positive and negative integers lists.\n",
    "# [1,2,3,4,5,6,-1,-2,-3,-4,-5,0]\n",
    "l= [1,2,3,4,5,6,-1,-2,-3,-4,-5,0]\n",
    "p=[]\n",
    "n=[]\n",
    "z=[]\n",
    "[p.append(i) if i>0 else n.append(i) if i<0 else z.append(i )for i in l]\n",
    "print(f\"Positive integer list : {p}\")\n",
    "print(f\"Negative integer list : {n}\")\n",
    "print(f\"Number of zeroes in the input list which didnt appear in either lists : {len(z)}\")"
   ]
  },
  {
   "cell_type": "code",
   "execution_count": null,
   "id": "8ab4f897-c6f2-45b6-987d-bc94231ca71e",
   "metadata": {},
   "outputs": [],
   "source": []
  }
 ],
 "metadata": {
  "kernelspec": {
   "display_name": "Python 3 (ipykernel)",
   "language": "python",
   "name": "python3"
  },
  "language_info": {
   "codemirror_mode": {
    "name": "ipython",
    "version": 3
   },
   "file_extension": ".py",
   "mimetype": "text/x-python",
   "name": "python",
   "nbconvert_exporter": "python",
   "pygments_lexer": "ipython3",
   "version": "3.10.8"
  }
 },
 "nbformat": 4,
 "nbformat_minor": 5
}
