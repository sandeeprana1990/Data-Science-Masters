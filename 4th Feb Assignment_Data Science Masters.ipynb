{
 "cells": [
  {
   "cell_type": "markdown",
   "id": "a15a547d-c483-49c2-b12a-1907310514db",
   "metadata": {},
   "source": [
    "#### Question 1"
   ]
  },
  {
   "cell_type": "code",
   "execution_count": 43,
   "id": "e15cadf5-e077-4c8c-ab60-42d598f298bb",
   "metadata": {},
   "outputs": [],
   "source": [
    "# Q1. Create a python program to sort the given list of tuples based on integer value using a\n",
    "# lambda function.\n",
    "# [('Sachin Tendulkar', 34357), ('Ricky Ponting', 27483), ('Jack Kallis', 25534), ('Virat Kohli', 24936)]"
   ]
  },
  {
   "cell_type": "markdown",
   "id": "58dec5ce-9e07-4a30-964e-82bf1c912b1c",
   "metadata": {},
   "source": [
    "#### Solution 1"
   ]
  },
  {
   "cell_type": "code",
   "execution_count": 44,
   "id": "ef8d6e87-e6ab-46a9-ab5f-3b8e8fecb7d1",
   "metadata": {},
   "outputs": [],
   "source": [
    "def sort_inp(t):\n",
    "    t.sort(key=lambda x:x[1])\n",
    "    return t"
   ]
  },
  {
   "cell_type": "code",
   "execution_count": 45,
   "id": "8e6812ed-0b51-4eba-8961-aff5213b7b83",
   "metadata": {},
   "outputs": [],
   "source": [
    "input_list=[('Sachin Tendulkar', 34357), ('Ricky Ponting', 27483), ('Jack Kallis', 25534), ('Virat Kohli', 24936)]"
   ]
  },
  {
   "cell_type": "code",
   "execution_count": 46,
   "id": "c042f68a-a161-46a7-b3b2-8432fcf8d95a",
   "metadata": {},
   "outputs": [
    {
     "data": {
      "text/plain": [
       "[('Virat Kohli', 24936),\n",
       " ('Jack Kallis', 25534),\n",
       " ('Ricky Ponting', 27483),\n",
       " ('Sachin Tendulkar', 34357)]"
      ]
     },
     "execution_count": 46,
     "metadata": {},
     "output_type": "execute_result"
    }
   ],
   "source": [
    "sort_inp(input_list)"
   ]
  },
  {
   "cell_type": "markdown",
   "id": "b65b9237-6228-4658-91e1-6b580fc15551",
   "metadata": {},
   "source": [
    "#### Question 2"
   ]
  },
  {
   "cell_type": "code",
   "execution_count": 47,
   "id": "d325283d-3fe9-48e2-86ee-bd8e0994cc85",
   "metadata": {},
   "outputs": [],
   "source": [
    "# Q2. Write a Python Program to find the squares of all the numbers in the given list of integers using\n",
    "# lambda and map functions.\n",
    "# [1, 2, 3, 4, 5, 6, 7, 8, 9, 10]"
   ]
  },
  {
   "cell_type": "markdown",
   "id": "f4fc8459-e6ed-418e-8e16-78fc84f195f9",
   "metadata": {},
   "source": [
    "#### Solution 2"
   ]
  },
  {
   "cell_type": "code",
   "execution_count": 48,
   "id": "f15d1b62-1833-4926-a9a3-bf140ca25454",
   "metadata": {},
   "outputs": [
    {
     "data": {
      "text/plain": [
       "[1, 4, 9, 16, 25, 36, 49, 64, 81, 100]"
      ]
     },
     "execution_count": 48,
     "metadata": {},
     "output_type": "execute_result"
    }
   ],
   "source": [
    "l1=[1, 2, 3, 4, 5, 6, 7, 8, 9, 10]\n",
    "list(map(lambda x:x**2,l1))"
   ]
  },
  {
   "cell_type": "markdown",
   "id": "fcc0abf1-06cd-43b7-85ef-b4bbb57fbb39",
   "metadata": {},
   "source": [
    "#### Question 3"
   ]
  },
  {
   "cell_type": "code",
   "execution_count": 50,
   "id": "7221b9a6-4b75-426c-ab6a-d80d9861d141",
   "metadata": {},
   "outputs": [],
   "source": [
    "# Q3. Write a python program to convert the given list of integers into a tuple of strings. Use map and\n",
    "# lambda functions\n",
    "# Given String: [1, 2, 3, 4, 5, 6, 7, 8, 9, 10]\n",
    "# Expected output: ('1', '2', '3', '4', '5', '6', '7', '8', '9', '10')"
   ]
  },
  {
   "cell_type": "markdown",
   "id": "378d7950-6eca-4686-89f4-be200b5bf930",
   "metadata": {},
   "source": [
    "#### Solution 3"
   ]
  },
  {
   "cell_type": "code",
   "execution_count": 51,
   "id": "d763a719-8595-4612-8ed1-a35bbfd86a46",
   "metadata": {},
   "outputs": [
    {
     "data": {
      "text/plain": [
       "('1', '2', '3', '4', '5', '6', '7', '8', '9', '10')"
      ]
     },
     "execution_count": 51,
     "metadata": {},
     "output_type": "execute_result"
    }
   ],
   "source": [
    "l2=[1, 2, 3, 4, 5, 6, 7, 8, 9, 10]\n",
    "tuple(map(lambda x:str(x),l2))"
   ]
  },
  {
   "cell_type": "markdown",
   "id": "6b887326-9933-41b7-af7d-2f28c2a3db7c",
   "metadata": {},
   "source": [
    "#### Question 4"
   ]
  },
  {
   "cell_type": "code",
   "execution_count": 52,
   "id": "9aa54a20-b083-4351-98bc-ce0cbb02769c",
   "metadata": {},
   "outputs": [],
   "source": [
    "# Q4. Write a python program using reduce function to compute the product of a list containing numbers\n",
    "# from 1 to 25."
   ]
  },
  {
   "cell_type": "markdown",
   "id": "28e70ddd-9c0c-469f-bda1-fe12a8a3a4e5",
   "metadata": {},
   "source": [
    "#### Solution 4"
   ]
  },
  {
   "cell_type": "code",
   "execution_count": 53,
   "id": "08a8f5b0-5aff-447d-a929-b5bcaabfbffc",
   "metadata": {},
   "outputs": [
    {
     "data": {
      "text/plain": [
       "15511210043330985984000000"
      ]
     },
     "execution_count": 53,
     "metadata": {},
     "output_type": "execute_result"
    }
   ],
   "source": [
    "from functools import reduce\n",
    "reduce(lambda x,y:x*y,range(1,26))"
   ]
  },
  {
   "cell_type": "markdown",
   "id": "6490ea34-b114-4b96-81f0-65b3560b78bf",
   "metadata": {},
   "source": [
    "#### Question 5"
   ]
  },
  {
   "cell_type": "code",
   "execution_count": 54,
   "id": "c7e436fd-4ca1-42e9-917b-017f9fb58f40",
   "metadata": {},
   "outputs": [],
   "source": [
    "# Q5. Write a python program to filter the numbers in a given list that are divisible by 2 and 3 using the\n",
    "# filter function.\n",
    "# [2, 3, 6, 9, 27, 60, 90, 120, 55, 46]"
   ]
  },
  {
   "cell_type": "markdown",
   "id": "6323fee1-8e70-4a0c-ac6b-6945c2722a25",
   "metadata": {},
   "source": [
    "#### Solution 5"
   ]
  },
  {
   "cell_type": "code",
   "execution_count": 55,
   "id": "3686a0d2-4ba5-4512-b425-39ea79795f94",
   "metadata": {},
   "outputs": [
    {
     "data": {
      "text/plain": [
       "[6, 60, 90, 120]"
      ]
     },
     "execution_count": 55,
     "metadata": {},
     "output_type": "execute_result"
    }
   ],
   "source": [
    "l3=[2, 3, 6, 9, 27, 60, 90, 120, 55, 46]\n",
    "list(filter(lambda x:x%2==0 and x%3==0,l3))"
   ]
  },
  {
   "cell_type": "markdown",
   "id": "2d6fb59e-8010-434d-aa51-e4a1c92ec3dd",
   "metadata": {},
   "source": [
    "#### Question 6"
   ]
  },
  {
   "cell_type": "code",
   "execution_count": 56,
   "id": "75d87ce8-7d42-4639-890e-aec3ee43b19d",
   "metadata": {},
   "outputs": [],
   "source": [
    "# Q6. Write a python program to find palindromes in the given list of strings using lambda and filter\n",
    "# function.\n",
    "# ['python', 'php', 'aba', 'radar', 'level']"
   ]
  },
  {
   "cell_type": "markdown",
   "id": "25fbb0e7-8afc-42ac-aadd-d9d33ac1823c",
   "metadata": {},
   "source": [
    "#### Solution 6"
   ]
  },
  {
   "cell_type": "code",
   "execution_count": 57,
   "id": "bf736c00-8b0d-41da-8367-470aea7f3066",
   "metadata": {},
   "outputs": [
    {
     "data": {
      "text/plain": [
       "['php', 'aba', 'radar', 'level']"
      ]
     },
     "execution_count": 57,
     "metadata": {},
     "output_type": "execute_result"
    }
   ],
   "source": [
    "s1=['python', 'php', 'aba', 'radar', 'level']\n",
    "list(filter(lambda x:x==x[::-1],s1))"
   ]
  },
  {
   "cell_type": "code",
   "execution_count": null,
   "id": "342d6933-9de0-44ed-b2e4-1524711d00ca",
   "metadata": {},
   "outputs": [],
   "source": []
  }
 ],
 "metadata": {
  "kernelspec": {
   "display_name": "Python 3 (ipykernel)",
   "language": "python",
   "name": "python3"
  },
  "language_info": {
   "codemirror_mode": {
    "name": "ipython",
    "version": 3
   },
   "file_extension": ".py",
   "mimetype": "text/x-python",
   "name": "python",
   "nbconvert_exporter": "python",
   "pygments_lexer": "ipython3",
   "version": "3.10.8"
  }
 },
 "nbformat": 4,
 "nbformat_minor": 5
}
