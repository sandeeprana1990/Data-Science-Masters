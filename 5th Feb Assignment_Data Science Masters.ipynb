{
 "cells": [
  {
   "cell_type": "markdown",
   "id": "584a9f94-2948-4bc0-bd9d-9271445ca7ee",
   "metadata": {},
   "source": [
    "#### Question 1"
   ]
  },
  {
   "cell_type": "code",
   "execution_count": 19,
   "id": "a2226389-aed2-4d84-a903-db53abfb7e7a",
   "metadata": {},
   "outputs": [],
   "source": [
    "# Q1. Explain Class and Object with respect to Object-Oriented Programming. Give a suitable example."
   ]
  },
  {
   "cell_type": "markdown",
   "id": "ee2b8af0-a82a-4757-b68c-9640d61395b2",
   "metadata": {},
   "source": [
    "#### Solution 1"
   ]
  },
  {
   "cell_type": "markdown",
   "id": "abd38632-3dd1-4d42-8920-28f7298a88a1",
   "metadata": {},
   "source": [
    "Class is considered as a blueprint of objects. Taking an example of cars, we can say that a car can have colour, type, mileage, top speed and many other parameters thus car is the overall blueprint thus the class. Class is considered as a classification of an entity. Using the specifications we can point to a specific class which in this case is a car.Use of classes is for creating various modules while developing a product to make it structured and much more reusable."
   ]
  },
  {
   "cell_type": "code",
   "execution_count": 20,
   "id": "54c80eb1-5057-484c-be1b-af0c98db7c9c",
   "metadata": {},
   "outputs": [],
   "source": [
    "# Example of class creation\n",
    "class car:\n",
    "    def __init__(self,colour,type,mileage):\n",
    "        self.colour=colour\n",
    "        self.type=type\n",
    "        self.mileage=mileage\n",
    "    def return_details(self):\n",
    "        return self.colour, self.type,self.mileage"
   ]
  },
  {
   "cell_type": "markdown",
   "id": "0908dc48-71a6-4387-94fd-318c3f885353",
   "metadata": {},
   "source": [
    "Object is an instace of a class. Lets suppose if car is class then we can create many objects from that class with various specifications. In the below example fortuner is an object and it is an instance of class car"
   ]
  },
  {
   "cell_type": "code",
   "execution_count": 21,
   "id": "f1575871-8e81-461e-afd6-eb762e13d28a",
   "metadata": {},
   "outputs": [
    {
     "data": {
      "text/plain": [
       "('white', 'SUV', 15)"
      ]
     },
     "execution_count": 21,
     "metadata": {},
     "output_type": "execute_result"
    }
   ],
   "source": [
    "# Example of object creation\n",
    "fortuner=car(\"white\",\"SUV\",15)\n",
    "fortuner.return_details()"
   ]
  },
  {
   "cell_type": "markdown",
   "id": "555e9a33-f367-40d1-9ba4-28f02979127a",
   "metadata": {},
   "source": [
    "#### Question 2"
   ]
  },
  {
   "cell_type": "code",
   "execution_count": 22,
   "id": "ddcfde22-aa80-4734-9f12-232c37c74bfe",
   "metadata": {},
   "outputs": [],
   "source": [
    "# Q2. Name the four pillars of OOPs."
   ]
  },
  {
   "cell_type": "markdown",
   "id": "8000943a-e6ec-423f-818a-507abb40ffab",
   "metadata": {},
   "source": [
    "#### Solution 2"
   ]
  },
  {
   "cell_type": "markdown",
   "id": "93b6cbb4-9adf-4605-8b69-f110651cc297",
   "metadata": {},
   "source": [
    "Four pillars of OOPs are:\n",
    "    1) Inheritance\n",
    "    2) Polymorphism\n",
    "    3) Encapsulation\n",
    "    4) Abstraction"
   ]
  },
  {
   "cell_type": "markdown",
   "id": "b8860b24-99fc-4067-92f8-4f1a5dd47de5",
   "metadata": {},
   "source": [
    "#### Question 3"
   ]
  },
  {
   "cell_type": "code",
   "execution_count": 23,
   "id": "7b78bf57-4a18-4c74-9e8d-d412e4fb8c5e",
   "metadata": {},
   "outputs": [],
   "source": [
    "# Q3. Explain why the __init__() function is used. Give a suitable example."
   ]
  },
  {
   "cell_type": "markdown",
   "id": "003bdd26-83e6-465f-a32a-dad1b6d36de4",
   "metadata": {},
   "source": [
    "#### Solution 3"
   ]
  },
  {
   "cell_type": "markdown",
   "id": "efec6a50-9d13-4b7d-a0b1-64e8e3db82a2",
   "metadata": {},
   "source": [
    "__init__() function is a constructor which is called when you make an instance of a class. It serves the purpose of initialize the attributes to the object being created"
   ]
  },
  {
   "cell_type": "code",
   "execution_count": 24,
   "id": "314def8c-e3f2-4f76-84c9-71a5c9bd8647",
   "metadata": {},
   "outputs": [],
   "source": [
    "# Example of __init__() function\n",
    "class cricket:\n",
    "    def __init__(self,team,matches):\n",
    "        self.team=team\n",
    "        self.matches=matches\n",
    "    def return_info(self):\n",
    "        return self.team,self.matches"
   ]
  },
  {
   "cell_type": "code",
   "execution_count": 25,
   "id": "1f32aaf2-db2e-408f-836d-080c9508c86b",
   "metadata": {},
   "outputs": [
    {
     "data": {
      "text/plain": [
       "('India', 350)"
      ]
     },
     "execution_count": 25,
     "metadata": {},
     "output_type": "execute_result"
    }
   ],
   "source": [
    "# Now everytime class cricket is called it helps to initialize the attributes team and matches to the object being created\n",
    "Sharma=cricket(\"India\",350)\n",
    "Sharma.return_info()"
   ]
  },
  {
   "cell_type": "markdown",
   "id": "40f6be42-a103-4ee3-890f-bd3c493f4921",
   "metadata": {},
   "source": [
    "#### Question 4"
   ]
  },
  {
   "cell_type": "code",
   "execution_count": 26,
   "id": "ff06c23c-9e02-47c8-bc1c-f47fa0df833b",
   "metadata": {},
   "outputs": [],
   "source": [
    "# Q4. Why self is used in OOPs?"
   ]
  },
  {
   "cell_type": "markdown",
   "id": "6bdd623e-ce09-441d-8e0b-cd3593760142",
   "metadata": {},
   "source": [
    "#### Solution 4"
   ]
  },
  {
   "cell_type": "markdown",
   "id": "0f87619b-8b43-47f8-944b-73d2a7b35bda",
   "metadata": {},
   "source": [
    "Self is the reference to the current instance of the class and it helps to access the attributes and methods of the class. In the above example for the previous function we can see that self helps to access the attributes team and matches along with the method return_info()"
   ]
  },
  {
   "cell_type": "markdown",
   "id": "5a64608d-e4b4-4a3f-a74c-b02d62e8f063",
   "metadata": {},
   "source": [
    "#### Question 5"
   ]
  },
  {
   "cell_type": "code",
   "execution_count": 27,
   "id": "e5591dd9-8f8d-48d1-ab4d-4e3938b1b2a5",
   "metadata": {},
   "outputs": [],
   "source": [
    "# Q5. What is inheritance? Give an example for each type of inheritance."
   ]
  },
  {
   "cell_type": "markdown",
   "id": "870fadcd-8a7d-435b-aa92-229aaa35419e",
   "metadata": {},
   "source": [
    "Inheritance allows a class to inherit all the methods and properties from another class. The class that inherits is called the child class and the class from where the methods and properties are inherited from is called the parent class.\n",
    "Different types of inheritance are : Single Inheritance, Multiple Inheritance, Multilevel Inheritance, Hierarchical Inheritance, Hybrid Inheritance. Example is provided below for each type:"
   ]
  },
  {
   "cell_type": "markdown",
   "id": "cc26be03-e8c1-4f97-b4ed-632429d8d5eb",
   "metadata": {},
   "source": [
    "#### Solution 5"
   ]
  },
  {
   "cell_type": "code",
   "execution_count": 28,
   "id": "87634c76-4ecc-441a-9580-d25437822fc4",
   "metadata": {},
   "outputs": [
    {
     "name": "stdout",
     "output_type": "stream",
     "text": [
      "This is from class 1\n",
      "This is from class 2\n"
     ]
    }
   ],
   "source": [
    "# Single Inheritance\n",
    "\n",
    "class class1:\n",
    "    def fun_c1(self):\n",
    "        print(\"This is from class 1\")\n",
    "        \n",
    "class class2(class1):\n",
    "    def fun_c2(self):\n",
    "        print(\"This is from class 2\")\n",
    "\n",
    "obj_class2=class2()\n",
    "obj_class2.fun_c1()\n",
    "obj_class2.fun_c2()"
   ]
  },
  {
   "cell_type": "code",
   "execution_count": 29,
   "id": "52b13e27-467e-4af9-90b6-e908e12ab1ee",
   "metadata": {},
   "outputs": [
    {
     "name": "stdout",
     "output_type": "stream",
     "text": [
      "This is from class 1\n",
      "This is from class 3\n",
      "This is from class 4\n"
     ]
    }
   ],
   "source": [
    "# Multiple Inheritance\n",
    "\n",
    "class class3:\n",
    "    def fun_c3(self):\n",
    "        print(\"This is from class 3\")\n",
    "\n",
    "class class4(class1,class3):\n",
    "    def fun_c4(self):\n",
    "        print(\"This is from class 4\")\n",
    "        \n",
    "obj_class4=class4()\n",
    "obj_class4.fun_c1()\n",
    "obj_class4.fun_c3()\n",
    "obj_class4.fun_c4()"
   ]
  },
  {
   "cell_type": "code",
   "execution_count": 30,
   "id": "751f9f04-3ce1-4baa-82f1-a549ce555b2d",
   "metadata": {},
   "outputs": [
    {
     "name": "stdout",
     "output_type": "stream",
     "text": [
      "This is from class 1\n",
      "This is from class 2\n",
      "This is from class 5\n"
     ]
    }
   ],
   "source": [
    "# Multilevel Inheritance\n",
    "\n",
    "class class5(class2):\n",
    "    def fun_c5(self):\n",
    "        print(\"This is from class 5\")\n",
    "        \n",
    "obj_class5=class5()\n",
    "obj_class5.fun_c1()\n",
    "obj_class5.fun_c2()\n",
    "obj_class5.fun_c5()"
   ]
  },
  {
   "cell_type": "code",
   "execution_count": 31,
   "id": "687de70c-046d-42ff-8f55-8e047f944dfd",
   "metadata": {},
   "outputs": [
    {
     "name": "stdout",
     "output_type": "stream",
     "text": [
      "This is from class 1\n",
      "This is from class 2\n",
      "This is from class 1\n",
      "This is from class 6\n"
     ]
    }
   ],
   "source": [
    "# Hierarchical Inheritance\n",
    "\n",
    "class class6(class1):\n",
    "    def fun_c6(self):\n",
    "        print(\"This is from class 6\")\n",
    "\n",
    "obj_c2=class2()\n",
    "obj_c6=class6()\n",
    "obj_c2.fun_c1()\n",
    "obj_c2.fun_c2()\n",
    "obj_c6.fun_c1()\n",
    "obj_c6.fun_c6()"
   ]
  },
  {
   "cell_type": "code",
   "execution_count": 32,
   "id": "90909611-d244-42b5-b332-a7c5804ce38a",
   "metadata": {},
   "outputs": [
    {
     "name": "stdout",
     "output_type": "stream",
     "text": [
      "This is from class 1\n",
      "This is from class 2\n",
      "This is from class 7\n"
     ]
    }
   ],
   "source": [
    "# Hybrid Inheritance\n",
    "\n",
    "class class7(class2,class1):\n",
    "    def fun_c7(self):\n",
    "        print(\"This is from class 7\")\n",
    "        \n",
    "obj_class7=class7()\n",
    "obj_class7.fun_c1()\n",
    "obj_class7.fun_c2()\n",
    "obj_class7.fun_c7()"
   ]
  },
  {
   "cell_type": "code",
   "execution_count": null,
   "id": "18e4ac9f-1874-4832-ab11-f17900984a1a",
   "metadata": {},
   "outputs": [],
   "source": []
  }
 ],
 "metadata": {
  "kernelspec": {
   "display_name": "Python 3 (ipykernel)",
   "language": "python",
   "name": "python3"
  },
  "language_info": {
   "codemirror_mode": {
    "name": "ipython",
    "version": 3
   },
   "file_extension": ".py",
   "mimetype": "text/x-python",
   "name": "python",
   "nbconvert_exporter": "python",
   "pygments_lexer": "ipython3",
   "version": "3.10.8"
  }
 },
 "nbformat": 4,
 "nbformat_minor": 5
}
