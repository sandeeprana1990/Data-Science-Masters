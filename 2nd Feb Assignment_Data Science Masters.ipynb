{
 "cells": [
  {
   "cell_type": "markdown",
   "id": "5562e501-5545-415d-aefd-a42baf0e0380",
   "metadata": {},
   "source": [
    "#### Question 1"
   ]
  },
  {
   "cell_type": "code",
   "execution_count": 83,
   "id": "862736d5-8732-4b43-9d3a-b615efeea4ea",
   "metadata": {},
   "outputs": [],
   "source": [
    "# Q1. What are the characteristics of the tuples? Is tuple immutable?"
   ]
  },
  {
   "cell_type": "markdown",
   "id": "8ba7e8b0-5144-4449-a77b-835d00c1dde8",
   "metadata": {},
   "source": [
    "#### Solution 1"
   ]
  },
  {
   "cell_type": "markdown",
   "id": "dcab7011-142a-414b-9724-90ffc2c0eae4",
   "metadata": {},
   "source": [
    "Characterisitics of Tuple are:\n",
    "\n",
    "    - Ordered and indexable\n",
    "    - Immutable : Values within a tuple cannot be altered\n",
    "    - Tuple allows to store duplicate values\n",
    "    - Tuple allows data with different data types\n",
    "\n",
    "Yes, Tuples are immutable and items cannot be altered within a tuple"
   ]
  },
  {
   "cell_type": "markdown",
   "id": "f470d8c2-8bf8-4bc0-87bb-386eeec34ea2",
   "metadata": {},
   "source": [
    "#### Question 2"
   ]
  },
  {
   "cell_type": "code",
   "execution_count": 84,
   "id": "c0af1eb2-5108-4779-acf1-6fd8a1492263",
   "metadata": {},
   "outputs": [],
   "source": [
    "# Q2. What are the two tuple methods in python? Give an example of each method. Give a reason why\n",
    "# tuples have only two in-built methods as compared to Lists"
   ]
  },
  {
   "cell_type": "markdown",
   "id": "55f69f84-a33d-44ff-9745-ab71407b8144",
   "metadata": {},
   "source": [
    "#### Solution 2"
   ]
  },
  {
   "cell_type": "markdown",
   "id": "95c60192-bc53-4495-9e4a-5b56454ff47f",
   "metadata": {},
   "source": [
    "Two tuple methods in python are : count and index\n",
    "\n",
    "Reason behind why it has just two built-in methods in comparison to lists is because of its characterisitics. As tuple is immutable in comparison to lists thus functions which helps to add, remove or alter the data will not work with a tuple. Only two functions of count and index are the ones which can work with an immutable data type."
   ]
  },
  {
   "cell_type": "markdown",
   "id": "1df17d03-146c-48fe-9753-01b7b22ccbc2",
   "metadata": {},
   "source": [
    "#### Question 3"
   ]
  },
  {
   "cell_type": "code",
   "execution_count": 85,
   "id": "eab7f6e3-ff18-451c-bff7-47c6f9f784c2",
   "metadata": {},
   "outputs": [],
   "source": [
    "# Q3. Which collection datatypes in python do not allow duplicate items? Write a code using a set to remove\n",
    "# duplicates from the given list.\n",
    "# List = [1, 1, 1, 2, 1, 3, 1, 4, 2, 1, 2, 2, 2, 3, 2, 4, 3, 1, 3, 2, 3, 3, 3, 4, 4, 1, 4, 2, 4, 3, 4, 4]"
   ]
  },
  {
   "cell_type": "markdown",
   "id": "98d4e448-940c-465a-bfe4-85711d0b6c0e",
   "metadata": {},
   "source": [
    "#### Solution 3"
   ]
  },
  {
   "cell_type": "markdown",
   "id": "41e30822-a5d1-4d00-834d-c3a5e5e1f063",
   "metadata": {
    "tags": []
   },
   "source": [
    "Sets do not allow duplicate items."
   ]
  },
  {
   "cell_type": "code",
   "execution_count": 86,
   "id": "b6ca5afc-4c10-4157-9404-f7d59237b739",
   "metadata": {},
   "outputs": [
    {
     "name": "stdout",
     "output_type": "stream",
     "text": [
      "List with duplicates : [1, 1, 1, 2, 1, 3, 1, 4, 2, 1, 2, 2, 2, 3, 2, 4, 3, 1, 3, 2, 3, 3, 3, 4, 4, 1, 4, 2, 4, 3, 4, 4]\n",
      "Set without duplicates : {1, 2, 3, 4}\n"
     ]
    }
   ],
   "source": [
    "# Code to remove duplicates from a given list\n",
    "list_a=[1, 1, 1, 2, 1, 3, 1, 4, 2, 1, 2, 2, 2, 3, 2, 4, 3, 1, 3, 2, 3, 3, 3, 4, 4, 1, 4, 2, 4, 3, 4, 4]\n",
    "print(f\"List with duplicates : {list_a}\")\n",
    "set_a=set(list_a)\n",
    "print(f\"Set without duplicates : {set_a}\")"
   ]
  },
  {
   "cell_type": "markdown",
   "id": "204cead0-c77d-4d42-9c31-d8a446ddc301",
   "metadata": {},
   "source": [
    "#### Question 4"
   ]
  },
  {
   "cell_type": "code",
   "execution_count": 87,
   "id": "3b6a5c25-f3dd-419e-90cf-02170dc4a8c6",
   "metadata": {},
   "outputs": [],
   "source": [
    "# Q4. Explain the difference between the union() and update() methods for a set. Give an example of\n",
    "# each method."
   ]
  },
  {
   "cell_type": "markdown",
   "id": "43463a3e-506a-444f-b4e1-4c6936291998",
   "metadata": {},
   "source": [
    "#### Solution 4"
   ]
  },
  {
   "cell_type": "markdown",
   "id": "087a8232-9722-4328-a471-dd5291d2bb12",
   "metadata": {},
   "source": [
    "Union is used to combine multiple sets and create a new set which can be stored as a new set in a different variable. It makes no changes to the existing sets."
   ]
  },
  {
   "cell_type": "code",
   "execution_count": 88,
   "id": "b70506a4-d201-462d-aa43-ece3a026907b",
   "metadata": {},
   "outputs": [
    {
     "name": "stdout",
     "output_type": "stream",
     "text": [
      "New Set : {1, 2, 3, 4, 7, 8}\n",
      "Existing Sets {1, 2, 3, 4} and {8, 1, 4, 7}\n"
     ]
    }
   ],
   "source": [
    "#Example of using union\n",
    "s={1,2,3,4}\n",
    "a={1,4,7,8}\n",
    "print(f\"New Set : {s.union(a)}\")\n",
    "print(f\"Existing Sets {s} and {a}\")"
   ]
  },
  {
   "cell_type": "markdown",
   "id": "54aaefc3-b2d0-4657-a8f9-ab5290c6be4c",
   "metadata": {},
   "source": [
    "In the case of update it makes changes to the existing set. If we write s.update(a) , this will update the set s with elements added from set a"
   ]
  },
  {
   "cell_type": "code",
   "execution_count": 89,
   "id": "b0a29ea4-00f3-492e-a76d-2db33417ffc6",
   "metadata": {},
   "outputs": [
    {
     "name": "stdout",
     "output_type": "stream",
     "text": [
      "New Set : None\n",
      "Existing Sets {1, 2, 3, 4, 7, 8} and {8, 1, 4, 7}\n"
     ]
    }
   ],
   "source": [
    "#Example of using update\n",
    "s={1,2,3,4}\n",
    "a={1,4,7,8}\n",
    "print(f\"New Set : {s.update(a)}\")\n",
    "print(f\"Existing Sets {s} and {a}\")"
   ]
  },
  {
   "cell_type": "markdown",
   "id": "98255685-ffac-449b-a4d1-d49094e1f8c8",
   "metadata": {},
   "source": [
    "#### Question 5"
   ]
  },
  {
   "cell_type": "code",
   "execution_count": 90,
   "id": "c9344f46-305e-4a95-b701-6c2001c6608b",
   "metadata": {},
   "outputs": [],
   "source": [
    "# Q5. What is a dictionary? Give an example. Also, state whether a dictionary is ordered or unordered."
   ]
  },
  {
   "cell_type": "markdown",
   "id": "02649e88-cf25-4ead-a23d-a1b27c7d8db9",
   "metadata": {},
   "source": [
    "#### Solution 5"
   ]
  },
  {
   "cell_type": "markdown",
   "id": "0465464c-267e-4e3a-908a-3b13fcebf21f",
   "metadata": {},
   "source": [
    "Dictionary is a data type in python which is used to store elements as key value pairs. \n",
    "\n",
    "Example : dict_a={\"India\":\"Delhi\",\"US\":\"Washington DC\"}\n",
    "\n",
    "Dictionaries are ordered which means that the items in a dictionary has a defined ordered and it does not change"
   ]
  },
  {
   "cell_type": "code",
   "execution_count": 91,
   "id": "626cf5aa-47c5-43cc-8c44-1b0699d266e2",
   "metadata": {},
   "outputs": [
    {
     "data": {
      "text/plain": [
       "{'India': 'Delhi', 'US': 'Washington DC'}"
      ]
     },
     "execution_count": 91,
     "metadata": {},
     "output_type": "execute_result"
    }
   ],
   "source": [
    "#Example\n",
    "dict_a={\"India\":\"Delhi\",\"US\":\"Washington DC\"}\n",
    "dict_a"
   ]
  },
  {
   "cell_type": "markdown",
   "id": "d3ae6091-a182-4945-92a5-3cacf689e75e",
   "metadata": {},
   "source": [
    "#### Question 6"
   ]
  },
  {
   "cell_type": "code",
   "execution_count": 92,
   "id": "c592de17-04f6-414b-b9e4-a54238fb5c59",
   "metadata": {},
   "outputs": [],
   "source": [
    "# Q6. Can we create a nested dictionary? If so, please give an example by creating a simple one-level\n",
    "# nested dictionary."
   ]
  },
  {
   "cell_type": "markdown",
   "id": "50f56ad1-e6c3-4860-ac86-511171abc323",
   "metadata": {},
   "source": [
    "#### Solution 6"
   ]
  },
  {
   "cell_type": "code",
   "execution_count": 93,
   "id": "93ed3969-ec05-443a-8639-df08caeb7c7a",
   "metadata": {},
   "outputs": [
    {
     "data": {
      "text/plain": [
       "{1: 'Atul', 2: 'Ankit'}"
      ]
     },
     "execution_count": 93,
     "metadata": {},
     "output_type": "execute_result"
    }
   ],
   "source": [
    "# Yes nested dictionaries can be created. Example of a one-level nested dictionary is as follow:\n",
    "dict_b={\"Class 1\":{1:\"Akash\",2:\"Arun\"},\"Class 2\":{1:\"Atul\",2:\"Ankit\"}}\n",
    "dict_b[\"Class 2\"]"
   ]
  },
  {
   "cell_type": "markdown",
   "id": "586c9116-19dc-4b99-a3f7-79068fbe97a8",
   "metadata": {},
   "source": [
    "#### Question 7"
   ]
  },
  {
   "cell_type": "code",
   "execution_count": 94,
   "id": "e17adc0f-84f9-4e31-ada3-0d35ceaacf4d",
   "metadata": {},
   "outputs": [],
   "source": [
    "# Q7. Using setdefault() method, create key named topics in the given dictionary and also add the value of\n",
    "# the key as this list ['Python', 'Machine Learning’, 'Deep Learning']\n",
    "# dict1 = {'language' : 'Python', 'course': 'Data Science Masters'}"
   ]
  },
  {
   "cell_type": "markdown",
   "id": "4474ff1a-3d0e-4cc4-9061-2094ccf5d460",
   "metadata": {},
   "source": [
    "#### Solution 7"
   ]
  },
  {
   "cell_type": "code",
   "execution_count": 95,
   "id": "ea7b87de-519d-44fd-8d6d-82fd84f23e4a",
   "metadata": {},
   "outputs": [
    {
     "data": {
      "text/plain": [
       "['Python', 'Machine Learning', 'Deep Learning']"
      ]
     },
     "execution_count": 95,
     "metadata": {},
     "output_type": "execute_result"
    }
   ],
   "source": [
    "dict1 = {'language' : 'Python', 'course': 'Data Science Masters'}\n",
    "dict1.setdefault('topics',['Python','Machine Learning','Deep Learning'])"
   ]
  },
  {
   "cell_type": "code",
   "execution_count": 96,
   "id": "d65f7ee8-eee5-4929-a654-baddfdfe184f",
   "metadata": {},
   "outputs": [
    {
     "data": {
      "text/plain": [
       "{'language': 'Python',\n",
       " 'course': 'Data Science Masters',\n",
       " 'topics': ['Python', 'Machine Learning', 'Deep Learning']}"
      ]
     },
     "execution_count": 96,
     "metadata": {},
     "output_type": "execute_result"
    }
   ],
   "source": [
    "dict1"
   ]
  },
  {
   "cell_type": "markdown",
   "id": "80c0216c-1ecd-4389-959a-2aaf5c24def7",
   "metadata": {},
   "source": [
    "#### Question 8"
   ]
  },
  {
   "cell_type": "code",
   "execution_count": 97,
   "id": "19d42383-6a60-4004-b702-6c3edab90394",
   "metadata": {},
   "outputs": [],
   "source": [
    "# Q8. What are the three view objects in dictionaries? Use the three in-built methods in python to display\n",
    "# these three view objects for the given dictionary.\n",
    "# dict1 = {'Sport': 'Cricket' , 'Teams': ['India', 'Australia', 'England', 'South Africa', 'Sri Lanka', 'New Zealand']}"
   ]
  },
  {
   "cell_type": "markdown",
   "id": "a6c4e6e9-790f-4567-8978-c271d025d2e9",
   "metadata": {},
   "source": [
    "#### Solution 8"
   ]
  },
  {
   "cell_type": "code",
   "execution_count": 98,
   "id": "77d41940-0b51-4465-b56c-4b54753052f7",
   "metadata": {},
   "outputs": [
    {
     "name": "stdout",
     "output_type": "stream",
     "text": [
      "KEYS:\n",
      "Sport\n",
      "Teams\n",
      "\n",
      "VALUES:\n",
      "Cricket\n",
      "['India', 'Australia', 'England', 'South Africa', 'Sri Lanka', 'New Zealand']\n",
      "\n",
      "ITEMS:\n",
      "('Sport', 'Cricket')\n",
      "('Teams', ['India', 'Australia', 'England', 'South Africa', 'Sri Lanka', 'New Zealand'])\n"
     ]
    }
   ],
   "source": [
    "# Three view objects in dictionaries are keys,values and items (key-value pair)\n",
    "dict1 = {'Sport': 'Cricket' , 'Teams': ['India', 'Australia', 'England', 'South Africa', 'Sri Lanka', 'New Zealand']}\n",
    "#Keys view\n",
    "print(\"KEYS:\")\n",
    "for i in dict1.keys():\n",
    "    print(i)\n",
    "#Values view\n",
    "print(\"\")\n",
    "print(\"VALUES:\")\n",
    "for j in dict1.values():\n",
    "    print(j)\n",
    "#Items view\n",
    "print(\"\")\n",
    "print(\"ITEMS:\")\n",
    "for k in dict1.items():\n",
    "    print(k)"
   ]
  },
  {
   "cell_type": "code",
   "execution_count": null,
   "id": "e5b3f24a-0b58-4f12-8ece-e11b78a1172a",
   "metadata": {},
   "outputs": [],
   "source": []
  }
 ],
 "metadata": {
  "kernelspec": {
   "display_name": "Python 3 (ipykernel)",
   "language": "python",
   "name": "python3"
  },
  "language_info": {
   "codemirror_mode": {
    "name": "ipython",
    "version": 3
   },
   "file_extension": ".py",
   "mimetype": "text/x-python",
   "name": "python",
   "nbconvert_exporter": "python",
   "pygments_lexer": "ipython3",
   "version": "3.10.8"
  }
 },
 "nbformat": 4,
 "nbformat_minor": 5
}
