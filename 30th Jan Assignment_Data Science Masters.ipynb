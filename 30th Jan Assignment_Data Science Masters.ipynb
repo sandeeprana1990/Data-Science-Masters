{
 "cells": [
  {
   "cell_type": "markdown",
   "id": "ab65c664-f8db-40b6-9ad4-9f6c0a24df58",
   "metadata": {},
   "source": [
    "#### Question 1"
   ]
  },
  {
   "cell_type": "code",
   "execution_count": 7,
   "id": "ba99254e-6a59-4e1f-93e1-851940d99c45",
   "metadata": {},
   "outputs": [],
   "source": [
    "#Write a program to accept percentage from the user and display the grade according to the following:\n",
    "# Marks Grade \n",
    "# >90  A \n",
    "# >80 and <=90 B \n",
    "# >=60 and <=80 C \n",
    "# below 60 D "
   ]
  },
  {
   "cell_type": "markdown",
   "id": "9f46c33f-2e6b-4f14-b26e-de6541ecf710",
   "metadata": {},
   "source": [
    "#### Solution 1"
   ]
  },
  {
   "cell_type": "code",
   "execution_count": 12,
   "id": "1aa45c3b-6f52-4ecc-99fc-9b558adbd847",
   "metadata": {},
   "outputs": [
    {
     "name": "stdin",
     "output_type": "stream",
     "text": [
      "Enter your percentage(0-100) to fetch the grade: 82\n"
     ]
    },
    {
     "name": "stdout",
     "output_type": "stream",
     "text": [
      "You have secured GRADE B\n"
     ]
    }
   ],
   "source": [
    "percentage=int(input(\"Enter your percentage(0-100) to fetch the grade:\"))\n",
    "if percentage>90:\n",
    "    print(\"You have secured GRADE A\")\n",
    "elif percentage>80 and percentage<=90:\n",
    "    print(\"You have secured GRADE B\")\n",
    "elif percentage>=60 and percentage<=80:\n",
    "    print(\"You have secured GRADE C\")\n",
    "else:\n",
    "    print(\"You have secured GRADE D\")"
   ]
  },
  {
   "cell_type": "markdown",
   "id": "b23dc295-68c9-4453-87c2-0a1e9eeffe2b",
   "metadata": {},
   "source": [
    "#### Question 2"
   ]
  },
  {
   "cell_type": "code",
   "execution_count": 13,
   "id": "5d2484ae-14a0-4a50-be09-8701da4880e2",
   "metadata": {},
   "outputs": [],
   "source": [
    "# Write a program to accept the cost price of a bike and display the road tax to be paid according to the following criteria: \n",
    "# Tax Cost Price(in Rs) \n",
    "# 15% >100000\n",
    "# 10% >50000 and <= 100000 \n",
    "# 5% <= 50000 "
   ]
  },
  {
   "cell_type": "markdown",
   "id": "aebcf7e3-936c-4816-8397-33d87ad8b90f",
   "metadata": {},
   "source": [
    "#### Solution 2"
   ]
  },
  {
   "cell_type": "code",
   "execution_count": 19,
   "id": "a8c94f3b-a5f5-47ef-bfb9-e1cb40201d7c",
   "metadata": {},
   "outputs": [
    {
     "name": "stdin",
     "output_type": "stream",
     "text": [
      "Enter the Cost Price of your bike to determine your road tax 800000\n"
     ]
    },
    {
     "name": "stdout",
     "output_type": "stream",
     "text": [
      "Your Road Tax Amount = INR 120000.0\n"
     ]
    }
   ],
   "source": [
    "CP=int(input(\"Enter the Cost Price of your bike to determine your road tax\"))\n",
    "if CP>100000:\n",
    "    print(f\"Your Road Tax Amount = INR {0.15*CP}\")\n",
    "elif CP>50000 and CP<=10000:\n",
    "    print(f\"Your Road Tax Amount = INR {0.10*CP}\")\n",
    "else:\n",
    "    print(f\"Your Road Tax Amount = INR {0.05*CP}\")"
   ]
  },
  {
   "cell_type": "markdown",
   "id": "0eb39bc3-8362-440d-a741-143c799e0315",
   "metadata": {},
   "source": [
    "#### Question 3"
   ]
  },
  {
   "cell_type": "code",
   "execution_count": 20,
   "id": "14657f59-aa2f-4f59-8f53-3eace7cebd49",
   "metadata": {},
   "outputs": [],
   "source": [
    "# Accept any city from the user and display monuments of that city. \n",
    "# City - Monument \n",
    "# Delhi - Red Fort \n",
    "# Agra - Taj Mahal \n",
    "# Jaipur - Jal Mahal "
   ]
  },
  {
   "cell_type": "markdown",
   "id": "d21dcf0e-19d3-42fe-8100-ed4e47dadd54",
   "metadata": {},
   "source": [
    "#### Solution 3"
   ]
  },
  {
   "cell_type": "code",
   "execution_count": 24,
   "id": "537da194-f6bc-4aa4-b9f2-ba2894acd227",
   "metadata": {},
   "outputs": [
    {
     "name": "stdin",
     "output_type": "stream",
     "text": [
      "Enter city name to get the monument name Agra\n"
     ]
    },
    {
     "name": "stdout",
     "output_type": "stream",
     "text": [
      "Monument in Agra city is Taj Mahal\n"
     ]
    }
   ],
   "source": [
    "city=input(\"Enter city name to get the monument name\")\n",
    "if city==\"Delhi\" or city==\"delhi\":\n",
    "    print(f\"Monument in {city} city is Red Fort\")\n",
    "elif city==\"Agra\" or city==\"agra\":\n",
    "    print(f\"Monument in {city} city is Taj Mahal\")\n",
    "elif city==\"Jaipur\" or city==\"jaipur\":\n",
    "    print(f\"Monument in {city} city is Jal Mahal\")\n",
    "else:\n",
    "    print(f\"Monument in {city} city is not present in our records\")"
   ]
  },
  {
   "cell_type": "markdown",
   "id": "b8c773af-cf08-4216-b906-39bce7ecb4ad",
   "metadata": {},
   "source": [
    "#### Question 4"
   ]
  },
  {
   "cell_type": "code",
   "execution_count": 25,
   "id": "7d05b950-59eb-4967-8b7e-347d2a15b677",
   "metadata": {},
   "outputs": [],
   "source": [
    "# Check how many times a given number can be divided by 3 before it is less than or equal to 10. "
   ]
  },
  {
   "cell_type": "markdown",
   "id": "4f06a958-48f9-4d72-95d4-93876fe6e95a",
   "metadata": {},
   "source": [
    "#### Solution 4"
   ]
  },
  {
   "cell_type": "code",
   "execution_count": 3,
   "id": "c4c84a98-ed34-40de-864f-ee84e315e111",
   "metadata": {},
   "outputs": [
    {
     "name": "stdin",
     "output_type": "stream",
     "text": [
      "Enter the number 50\n"
     ]
    },
    {
     "name": "stdout",
     "output_type": "stream",
     "text": [
      "50 can be divided by three 2 times before it is less than or equal to 10\n"
     ]
    }
   ],
   "source": [
    "usernum=int(input(\"Enter the number\"))\n",
    "num=usernum\n",
    "count=0\n",
    "while num>=10:\n",
    "    num=num/3\n",
    "    count=count+1\n",
    "print(f\"{usernum} can be divided by three {count} times before it is less than or equal to 10\")"
   ]
  },
  {
   "cell_type": "markdown",
   "id": "49ed5642-087e-460a-b865-d24ccebf3921",
   "metadata": {},
   "source": [
    "#### Question 5"
   ]
  },
  {
   "cell_type": "code",
   "execution_count": 1,
   "id": "0afd45f3-1d2f-406f-8a4d-259eb065d590",
   "metadata": {},
   "outputs": [],
   "source": [
    "# Why and When to Use while Loop in Python give a detailed description with example"
   ]
  },
  {
   "cell_type": "markdown",
   "id": "d50f8a03-feb3-4ba8-a805-c6c682d04dc9",
   "metadata": {},
   "source": [
    "#### Solution 5"
   ]
  },
  {
   "cell_type": "markdown",
   "id": "a4080f30-064f-41d2-9d09-138be01a1432",
   "metadata": {},
   "source": [
    "While loop is used when we have to run a loop as long as the condition is met. The code passes to the block only when the condition is met and it continues looping till the condition is met. As soon as the condition fails the code comes out of this loop.Also along with while loop we can use loop controls such as break, continue and pass to add on a condition to the high level condition mentioed in the while loop. An example of while loop is lets suppose the user need to feed a password and is given three tries for that. Here while loop is suitable to be used wherein the main while condition ca be the count of the number of tries and using the loop control of break we can come out of this loop if the password is fed correctly by the user within the limits provided."
   ]
  },
  {
   "cell_type": "code",
   "execution_count": 9,
   "id": "754ec0fd-6d83-48cc-bc9d-5eab1809ef76",
   "metadata": {},
   "outputs": [
    {
     "name": "stdin",
     "output_type": "stream",
     "text": [
      "Enter password abcd\n",
      "Enter password qwerty\n"
     ]
    },
    {
     "name": "stdout",
     "output_type": "stream",
     "text": [
      "Approved\n"
     ]
    }
   ],
   "source": [
    "#Code for the above example:\n",
    "count=1\n",
    "while(count<4):\n",
    "    pwd=input(\"Enter password\")\n",
    "    count=count+1\n",
    "    if pwd==\"qwerty\":\n",
    "        print(\"Approved\")\n",
    "        break   "
   ]
  },
  {
   "cell_type": "markdown",
   "id": "65c10d56-10ff-4537-a701-c2ff9345fc57",
   "metadata": {},
   "source": [
    "#### Question 6"
   ]
  },
  {
   "cell_type": "code",
   "execution_count": 10,
   "id": "f669a0a2-55e7-4f64-83fc-f3048cff171e",
   "metadata": {},
   "outputs": [],
   "source": [
    "# Use nested while loop to print 3 different pattern"
   ]
  },
  {
   "cell_type": "markdown",
   "id": "7ba739ee-3350-45db-9800-1f42fcf382d2",
   "metadata": {},
   "source": [
    "#### Solution 6"
   ]
  },
  {
   "cell_type": "code",
   "execution_count": 3,
   "id": "1b592360-35bb-4c09-8a24-568567e375f1",
   "metadata": {},
   "outputs": [
    {
     "name": "stdin",
     "output_type": "stream",
     "text": [
      "Enter the number of lines for the pattern: 5\n"
     ]
    },
    {
     "name": "stdout",
     "output_type": "stream",
     "text": [
      "*\n",
      "**\n",
      "***\n",
      "****\n",
      "*****\n"
     ]
    }
   ],
   "source": [
    "#Pattern 1\n",
    "# *\n",
    "# **\n",
    "# ***\n",
    "# ****\n",
    "\n",
    "n=int(input(\"Enter the number of lines for the pattern:\"))\n",
    "i=0\n",
    "while(i<n):\n",
    "    j=0\n",
    "    while(j<=i):\n",
    "        print(\"*\",end=\"\")\n",
    "        j=j+1\n",
    "    i=i+1\n",
    "    print(\"\\r\")   "
   ]
  },
  {
   "cell_type": "code",
   "execution_count": 11,
   "id": "751ade64-446e-4921-a305-aa73219cc1f3",
   "metadata": {},
   "outputs": [
    {
     "name": "stdin",
     "output_type": "stream",
     "text": [
      "Enter the number of lines for the pattern: 5\n"
     ]
    },
    {
     "name": "stdout",
     "output_type": "stream",
     "text": [
      "     *\n",
      "    **\n",
      "   ***\n",
      "  ****\n",
      " *****\n"
     ]
    }
   ],
   "source": [
    "#Pattern 2\n",
    "#    *\n",
    "#   ** \n",
    "#  ***\n",
    "# ****\n",
    "\n",
    "n=int(input(\"Enter the number of lines for the pattern:\"))\n",
    "i=0\n",
    "while(i<n):\n",
    "    j=0\n",
    "    while(j<n-i):\n",
    "        print(\" \",end=\"\")\n",
    "        j=j+1\n",
    "    k=0\n",
    "    while(k<i+1):\n",
    "        print(\"*\",end=\"\")\n",
    "        k=k+1\n",
    "    i=i+1\n",
    "    print(\"\\r\")"
   ]
  },
  {
   "cell_type": "code",
   "execution_count": 12,
   "id": "78bfae5d-11b7-41ce-8832-136ac895f58a",
   "metadata": {},
   "outputs": [
    {
     "name": "stdin",
     "output_type": "stream",
     "text": [
      "Enter the number of lines for the pattern: 5\n"
     ]
    },
    {
     "name": "stdout",
     "output_type": "stream",
     "text": [
      "     *\n",
      "    ***\n",
      "   *****\n",
      "  *******\n",
      " *********\n"
     ]
    }
   ],
   "source": [
    "#Pattern 3\n",
    "#    *\n",
    "#   *** \n",
    "#  *****\n",
    "# *******\n",
    "\n",
    "n=int(input(\"Enter the number of lines for the pattern:\"))\n",
    "i=0\n",
    "while(i<n):\n",
    "    j=0\n",
    "    while(j<n-i):\n",
    "        print(\" \",end=\"\")\n",
    "        j=j+1\n",
    "    k=0\n",
    "    while(k<i*2+1):\n",
    "        print(\"*\",end=\"\")\n",
    "        k=k+1\n",
    "    i=i+1\n",
    "    print(\"\\r\")"
   ]
  },
  {
   "cell_type": "markdown",
   "id": "813ffe02-7864-4668-b14d-1286abe96cb0",
   "metadata": {},
   "source": [
    "#### Question 7"
   ]
  },
  {
   "cell_type": "code",
   "execution_count": 11,
   "id": "98f2ee9d-9dce-443d-836e-c19ff0e3f600",
   "metadata": {},
   "outputs": [],
   "source": [
    "# Reverse a while loop to display numbers from 10 to 1"
   ]
  },
  {
   "cell_type": "markdown",
   "id": "bcb9fd6f-c84b-401a-8099-6fa54bb7f161",
   "metadata": {},
   "source": [
    "#### Solution 7"
   ]
  },
  {
   "cell_type": "code",
   "execution_count": 12,
   "id": "62937d12-b7f3-41c9-a5f7-e4ec41665f04",
   "metadata": {},
   "outputs": [
    {
     "name": "stdout",
     "output_type": "stream",
     "text": [
      "10\n",
      "9\n",
      "8\n",
      "7\n",
      "6\n",
      "5\n",
      "4\n",
      "3\n",
      "2\n",
      "1\n"
     ]
    }
   ],
   "source": [
    "n=10\n",
    "while(n>0):\n",
    "    print(n)\n",
    "    n=n-1"
   ]
  },
  {
   "cell_type": "markdown",
   "id": "3154202e-3cc9-4296-9ce4-5c4c370f2978",
   "metadata": {},
   "source": [
    "#### Question 8"
   ]
  },
  {
   "cell_type": "code",
   "execution_count": 14,
   "id": "cca9b6cc-9ca8-4a77-adb3-2889186127ec",
   "metadata": {},
   "outputs": [],
   "source": [
    "# Reverse a while loop to display numbers from 10 to 1"
   ]
  },
  {
   "cell_type": "markdown",
   "id": "c4575c0d-0ecb-4f7b-b90e-260710ce48cd",
   "metadata": {},
   "source": [
    "#### Solution 8"
   ]
  },
  {
   "cell_type": "code",
   "execution_count": 15,
   "id": "3c43b3a0-c534-4971-b51b-55fa5358eaad",
   "metadata": {},
   "outputs": [
    {
     "name": "stdout",
     "output_type": "stream",
     "text": [
      "10\n",
      "9\n",
      "8\n",
      "7\n",
      "6\n",
      "5\n",
      "4\n",
      "3\n",
      "2\n",
      "1\n"
     ]
    }
   ],
   "source": [
    "n=10\n",
    "while(n>0):\n",
    "    print(n)\n",
    "    n=n-1"
   ]
  },
  {
   "cell_type": "code",
   "execution_count": null,
   "id": "c53cd1e9-ceb1-4c34-9e16-100a495f192d",
   "metadata": {},
   "outputs": [],
   "source": []
  }
 ],
 "metadata": {
  "kernelspec": {
   "display_name": "Python 3 (ipykernel)",
   "language": "python",
   "name": "python3"
  },
  "language_info": {
   "codemirror_mode": {
    "name": "ipython",
    "version": 3
   },
   "file_extension": ".py",
   "mimetype": "text/x-python",
   "name": "python",
   "nbconvert_exporter": "python",
   "pygments_lexer": "ipython3",
   "version": "3.10.8"
  }
 },
 "nbformat": 4,
 "nbformat_minor": 5
}
