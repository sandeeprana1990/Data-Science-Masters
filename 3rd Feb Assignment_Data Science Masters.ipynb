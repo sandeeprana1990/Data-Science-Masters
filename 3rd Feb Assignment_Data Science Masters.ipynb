{
 "cells": [
  {
   "cell_type": "markdown",
   "id": "ca11a2af-53c8-4378-8264-277f34fc24e8",
   "metadata": {},
   "source": [
    "#### Question 1"
   ]
  },
  {
   "cell_type": "code",
   "execution_count": 24,
   "id": "54b3bb52-0088-442b-a713-ccc47ef47eb4",
   "metadata": {},
   "outputs": [],
   "source": [
    "# Q1. Which keyword is used to create a function? Create a function to return a list of odd numbers in the\n",
    "# range of 1 to 25."
   ]
  },
  {
   "cell_type": "markdown",
   "id": "e4803fa7-ae10-4b46-8949-9a8a23b81ae7",
   "metadata": {},
   "source": [
    "#### Solution 1"
   ]
  },
  {
   "cell_type": "code",
   "execution_count": 25,
   "id": "0e5c021c-167e-4d0b-9305-d3d7096fbaea",
   "metadata": {},
   "outputs": [],
   "source": [
    "# def keyword is used to create a function. Function to return a list of odd numbers in the range of 1 to 25:\n",
    "\n",
    "def odd_num():\n",
    "    l=[]\n",
    "    for i in range(1,26):\n",
    "        if i%2!=0:\n",
    "            l.append(i)\n",
    "    return l"
   ]
  },
  {
   "cell_type": "code",
   "execution_count": 26,
   "id": "ca85e56d-6e4e-4af2-aac6-3f3106710510",
   "metadata": {},
   "outputs": [
    {
     "data": {
      "text/plain": [
       "[1, 3, 5, 7, 9, 11, 13, 15, 17, 19, 21, 23, 25]"
      ]
     },
     "execution_count": 26,
     "metadata": {},
     "output_type": "execute_result"
    }
   ],
   "source": [
    "odd_num()"
   ]
  },
  {
   "cell_type": "markdown",
   "id": "131002bb-970e-4ad0-8f86-e82ce887cda2",
   "metadata": {},
   "source": [
    "#### Question 2"
   ]
  },
  {
   "cell_type": "code",
   "execution_count": 27,
   "id": "4abeb5c2-c3b3-436c-8b07-bec25a84b93a",
   "metadata": {},
   "outputs": [],
   "source": [
    "# Q2. Why *args and **kwargs is used in some functions? Create a function each for *args and **kwargs to\n",
    "# demonstrate their use."
   ]
  },
  {
   "cell_type": "markdown",
   "id": "2165a696-7064-44c0-af47-449a3ea805a1",
   "metadata": {},
   "source": [
    "#### Solution 2"
   ]
  },
  {
   "cell_type": "markdown",
   "id": "4f240051-8d2b-4c3e-aa8c-ff607c507136",
   "metadata": {},
   "source": [
    "*args and **kwargs are used in some function when we want flexibility with the number of arguments to be passed with the function\n",
    "*args enables the function to take variable arguments which are non keyword arguments whereas **kwargs also enables the function to take variable arguments but\n",
    "which are keyword arguments thus they are considered as dictionary type."
   ]
  },
  {
   "cell_type": "code",
   "execution_count": 28,
   "id": "1ff3caee-246c-40fd-b2d5-8a80b992a2a6",
   "metadata": {},
   "outputs": [],
   "source": [
    "## Example of using *args. Creating a function to get a list with strings having first letter as capital\n",
    "\n",
    "def inp(*args):\n",
    "    l=[]\n",
    "    for i in args:\n",
    "        if i[0].isupper()==True:\n",
    "            l.append(i)\n",
    "    return l       "
   ]
  },
  {
   "cell_type": "code",
   "execution_count": 29,
   "id": "d54ba161-6372-4eb8-ad0c-4af1bafceb23",
   "metadata": {},
   "outputs": [
    {
     "data": {
      "text/plain": [
       "['Pwskills', 'Data', 'Python']"
      ]
     },
     "execution_count": 29,
     "metadata": {},
     "output_type": "execute_result"
    }
   ],
   "source": [
    "inp(\"Pwskills\",\"Data\",\"lab\",\"Python\",\"course\")"
   ]
  },
  {
   "cell_type": "code",
   "execution_count": 30,
   "id": "2ca0e81a-fbfc-4bd8-8b4e-7898cb209494",
   "metadata": {},
   "outputs": [],
   "source": [
    "## Example of using **kwargs. Creating a function which returns list of only values from the key value pair where value is of type string\n",
    "\n",
    "def inp1(**kwargs):\n",
    "    l=[]\n",
    "    for i in kwargs.values():\n",
    "        if type(i)==str:\n",
    "            l.append(i)\n",
    "    return l"
   ]
  },
  {
   "cell_type": "code",
   "execution_count": 31,
   "id": "259d9b3e-4b90-4ae7-82a5-e33c56d15712",
   "metadata": {},
   "outputs": [
    {
     "data": {
      "text/plain": [
       "['Pwskills', 'Data Science']"
      ]
     },
     "execution_count": 31,
     "metadata": {},
     "output_type": "execute_result"
    }
   ],
   "source": [
    "inp1(a=[1,2,3,4],b=\"Pwskills\",c=(1,2),d=\"Data Science\")"
   ]
  },
  {
   "cell_type": "markdown",
   "id": "aced4411-a0a3-4dc9-a0b4-36c698c3a89b",
   "metadata": {},
   "source": [
    "#### Question 3"
   ]
  },
  {
   "cell_type": "code",
   "execution_count": 32,
   "id": "e66d8dc8-2df6-4446-83a9-6c3c786b2eb1",
   "metadata": {},
   "outputs": [],
   "source": [
    "# Q3. What is an iterator in python? Name the method used to initialise the iterator object and the method\n",
    "# used for iteration. Use these methods to print the first five elements of the given list [2, 4, 6, 8, 10, 12, 14, 16,\n",
    "# 18, 20]."
   ]
  },
  {
   "cell_type": "markdown",
   "id": "88468a41-ae47-4536-b117-aa49dba480f3",
   "metadata": {},
   "source": [
    "#### Solution 3"
   ]
  },
  {
   "cell_type": "markdown",
   "id": "ebd3baf7-dec8-4d18-b8e0-531082f59cd3",
   "metadata": {},
   "source": [
    "Iterator is an object in python which is used to iterate or traverse over iterable objects such as lists, strings etc. Method used to initialise the iterator object is __iter()__ and __next()__ method is used for iteration"
   ]
  },
  {
   "cell_type": "code",
   "execution_count": 33,
   "id": "377445ab-9a37-47f5-a62e-d7fecd6593d6",
   "metadata": {},
   "outputs": [
    {
     "name": "stdout",
     "output_type": "stream",
     "text": [
      "2\n",
      "4\n",
      "6\n",
      "8\n",
      "10\n"
     ]
    }
   ],
   "source": [
    "#To print the first five elements of the given list [2, 4, 6, 8, 10, 12, 14, 16,\n",
    "# 18, 20]\n",
    "\n",
    "l=[2, 4, 6, 8, 10, 12, 14, 16,18, 20]\n",
    "it=iter(l)\n",
    "print(next(it))\n",
    "print(next(it))\n",
    "print(next(it))\n",
    "print(next(it))\n",
    "print(next(it))"
   ]
  },
  {
   "cell_type": "markdown",
   "id": "3d71de32-21b1-44c8-aeee-4c05c7ff91b1",
   "metadata": {},
   "source": [
    "#### Question 4"
   ]
  },
  {
   "cell_type": "code",
   "execution_count": 34,
   "id": "8eb99e9f-30e5-436a-9137-ef94227b78ef",
   "metadata": {},
   "outputs": [],
   "source": [
    "# Q4. What is a generator function in python? Why yield keyword is used? Give an example of a generator\n",
    "# function."
   ]
  },
  {
   "cell_type": "markdown",
   "id": "c52bfd5d-5f04-4787-b912-a0b12d0fc7db",
   "metadata": {},
   "source": [
    "#### Solution 4"
   ]
  },
  {
   "cell_type": "markdown",
   "id": "45260f13-8cd7-4652-b1c2-40612f85a36e",
   "metadata": {},
   "source": [
    "Generator functions allows the function to behave like an iterator. It helps for efficient memory usage as memory is used in an optimized way rather than occupying the whole memory for all the data. yield keyword is used to create a generator function and it helps to iterate over a sequence rather than storing the whole sequence in one memory place."
   ]
  },
  {
   "cell_type": "code",
   "execution_count": 35,
   "id": "4300b696-4124-4605-a14d-2d43ae693103",
   "metadata": {},
   "outputs": [],
   "source": [
    "# Example of a generator function\n",
    "\n",
    "def even_n(l):\n",
    "    for i in l:\n",
    "        if i%2==0:\n",
    "            yield i"
   ]
  },
  {
   "cell_type": "code",
   "execution_count": 36,
   "id": "71f326c9-4fe2-41d5-9c1c-0fa5b3feb218",
   "metadata": {},
   "outputs": [
    {
     "data": {
      "text/plain": [
       "<generator object even_n at 0x7f98fce2e1f0>"
      ]
     },
     "execution_count": 36,
     "metadata": {},
     "output_type": "execute_result"
    }
   ],
   "source": [
    "l=[1,2,3,4,5,6,7,8]\n",
    "even_n(l)"
   ]
  },
  {
   "cell_type": "code",
   "execution_count": 37,
   "id": "4a52b82b-1bb8-449e-b916-d6c623717603",
   "metadata": {},
   "outputs": [
    {
     "name": "stdout",
     "output_type": "stream",
     "text": [
      "2\n",
      "4\n",
      "6\n",
      "8\n"
     ]
    }
   ],
   "source": [
    "for i in even_n(l):\n",
    "    print (i)"
   ]
  },
  {
   "cell_type": "markdown",
   "id": "5f48ce0e-933f-42ce-9b71-3a37a0673321",
   "metadata": {},
   "source": [
    "#### Question 5"
   ]
  },
  {
   "cell_type": "code",
   "execution_count": 38,
   "id": "d43da1a1-382b-4b48-bc90-9144b04bf38e",
   "metadata": {},
   "outputs": [],
   "source": [
    "# Q5. Create a generator function for prime numbers less than 1000. Use the next() method to print the\n",
    "# first 20 prime numbers."
   ]
  },
  {
   "cell_type": "markdown",
   "id": "d2342e90-0ae2-40db-ac2b-70d39c329cd4",
   "metadata": {},
   "source": [
    "#### Solution 5"
   ]
  },
  {
   "cell_type": "code",
   "execution_count": 43,
   "id": "3c1538d1-1687-4ad9-9a94-75e6715c14ba",
   "metadata": {},
   "outputs": [],
   "source": [
    "def prime():\n",
    "    temp=0\n",
    "    for i in range(2,1001):\n",
    "        for j in range(2,i):\n",
    "            if i%j==0:\n",
    "                temp=1\n",
    "        if temp==0:\n",
    "            yield i\n",
    "        temp=0    "
   ]
  },
  {
   "cell_type": "code",
   "execution_count": 44,
   "id": "51d0c20a-de75-47f2-a10d-25fd8f87d064",
   "metadata": {},
   "outputs": [
    {
     "data": {
      "text/plain": [
       "<generator object prime at 0x7f98fce2e960>"
      ]
     },
     "execution_count": 44,
     "metadata": {},
     "output_type": "execute_result"
    }
   ],
   "source": [
    "prime()"
   ]
  },
  {
   "cell_type": "code",
   "execution_count": 45,
   "id": "7b07227c-8a7c-4291-aaa9-ab67ebcd6fc9",
   "metadata": {},
   "outputs": [
    {
     "name": "stdout",
     "output_type": "stream",
     "text": [
      "2\n",
      "3\n",
      "5\n",
      "7\n",
      "11\n",
      "13\n",
      "17\n",
      "19\n",
      "23\n",
      "29\n",
      "31\n",
      "37\n",
      "41\n",
      "43\n",
      "47\n",
      "53\n",
      "59\n",
      "61\n",
      "67\n",
      "71\n"
     ]
    }
   ],
   "source": [
    "#Using next to print first 20 prime numbers\n",
    "prime20=iter(prime())\n",
    "for i in range(0,20):\n",
    "    print(next(prime20))"
   ]
  },
  {
   "cell_type": "code",
   "execution_count": null,
   "id": "3f8adabe-f23f-451f-8ca7-cfdcfa932218",
   "metadata": {},
   "outputs": [],
   "source": []
  }
 ],
 "metadata": {
  "kernelspec": {
   "display_name": "Python 3 (ipykernel)",
   "language": "python",
   "name": "python3"
  },
  "language_info": {
   "codemirror_mode": {
    "name": "ipython",
    "version": 3
   },
   "file_extension": ".py",
   "mimetype": "text/x-python",
   "name": "python",
   "nbconvert_exporter": "python",
   "pygments_lexer": "ipython3",
   "version": "3.10.8"
  }
 },
 "nbformat": 4,
 "nbformat_minor": 5
}
