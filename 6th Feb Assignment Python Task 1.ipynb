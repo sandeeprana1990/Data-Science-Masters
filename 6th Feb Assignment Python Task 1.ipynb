{
 "cells": [
  {
   "cell_type": "markdown",
   "id": "ac5af375-3092-4871-867b-e078aaf3e11d",
   "metadata": {},
   "source": [
    "#### Question 1"
   ]
  },
  {
   "cell_type": "code",
   "execution_count": 33,
   "id": "b55f55ae-8ffa-40a3-a938-3a412bfdbaee",
   "metadata": {},
   "outputs": [],
   "source": [
    "# Q1. Create a function which will take a list as an argument and return the product of all the numbers\n",
    "# after creating a flat list.\n",
    "# Use the below-given list as an argument for your function.\n",
    "# list1 = [1,2,3,4, [44,55,66, True], False, (34,56,78,89,34), {1,2,3,3,2,1}, {1:34, \"key2\": [55, 67, 78, 89], 4: (45,\n",
    "# 22, 61, 34)}, [56, 'data science'], 'Machine Learning']\n",
    "# Note: you must extract numeric keys and values of the dictionary also."
   ]
  },
  {
   "cell_type": "markdown",
   "id": "6c5cead5-5282-4d49-bd6a-f79f1cf2e5c2",
   "metadata": {},
   "source": [
    "#### Solution 1"
   ]
  },
  {
   "cell_type": "code",
   "execution_count": 34,
   "id": "90e16d71-a1b9-4240-a729-6f1c0b902cdd",
   "metadata": {},
   "outputs": [],
   "source": [
    "def prod_num(l):\n",
    "    lm=[]\n",
    "    for i in l:\n",
    "        if type(i)==list or type(i)==tuple or type(i)==set:\n",
    "            for j in i:\n",
    "                lm.append(j)\n",
    "        elif type(i)==dict:\n",
    "            for k in i.keys():\n",
    "                if type(k)==list or type(k)==tuple or type(k)==set:\n",
    "                    for m in k:\n",
    "                        lm.append(m)\n",
    "                else:\n",
    "                    lm.append(k)\n",
    "            for n in i.values():\n",
    "                if type(n)==list or type(n)==tuple or type(n)==set:\n",
    "                    for o in n:\n",
    "                        lm.append(o)\n",
    "                else:\n",
    "                    lm.append(n)\n",
    "        else:\n",
    "            lm.append(i)            \n",
    "    s=list(filter(lambda x:type(x)==int or type(x)==float,lm))\n",
    "    from functools import reduce\n",
    "    ans=reduce(lambda x,y:x*y,s)\n",
    "    return ans"
   ]
  },
  {
   "cell_type": "code",
   "execution_count": 35,
   "id": "7f5eb104-b364-4cb3-b2f7-21b9f929e077",
   "metadata": {},
   "outputs": [],
   "source": [
    "list1 = [1,2,3,4, [44,55,66, [234,32],True], False, (34,56,78,89,34), {1,2,3,3,2,1}, {1:34, \"key2\": [55, 67, 78, 89], 4: (45,22, 61, 34)}, [56, 'data science'], 'Machine Learning']"
   ]
  },
  {
   "cell_type": "code",
   "execution_count": 36,
   "id": "09d7df9a-d3ea-43b6-85a2-34a5b96e7360",
   "metadata": {},
   "outputs": [
    {
     "data": {
      "text/plain": [
       "4134711838987085478833841242112000"
      ]
     },
     "execution_count": 36,
     "metadata": {},
     "output_type": "execute_result"
    }
   ],
   "source": [
    "prod_num(list1)"
   ]
  },
  {
   "cell_type": "markdown",
   "id": "d82d9cfa-5760-40d8-9c22-388633f8cca2",
   "metadata": {},
   "source": [
    "#### Question 2"
   ]
  },
  {
   "cell_type": "code",
   "execution_count": 37,
   "id": "3a76c2df-2290-41cd-82ed-4616d9072b25",
   "metadata": {},
   "outputs": [],
   "source": [
    "# Q2. Write a python program for encrypting a message sent to you by your friend. The logic of encryption\n",
    "# should be such that, for a the output should be z. For b, the output should be y. For c, the output should\n",
    "# be x respectively. Also, the whitespace should be replaced with a dollar sign. Keep the punctuation\n",
    "# marks unchanged.\n",
    "# Input Sentence: I want to become a Data Scientist.\n",
    "# Encrypt the above input sentence using the program you just created.\n",
    "# Note: Convert the given input sentence into lowercase before encrypting. The final output should be\n",
    "# lowercase."
   ]
  },
  {
   "cell_type": "markdown",
   "id": "d2d6982d-6389-474d-831d-711fee1d7462",
   "metadata": {},
   "source": [
    "#### Solution 2"
   ]
  },
  {
   "cell_type": "code",
   "execution_count": 38,
   "id": "84a5505b-26f2-4aea-989b-e453074a8b79",
   "metadata": {},
   "outputs": [
    {
     "name": "stdin",
     "output_type": "stream",
     "text": [
      "Enter the message to be encrypted: I want to become a Data Scientist.\n"
     ]
    },
    {
     "name": "stdout",
     "output_type": "stream",
     "text": [
      "Encrypted Message : r$dzmg$gl$yvxlnv$z$wzgz$hxrvmgrhg.\n"
     ]
    }
   ],
   "source": [
    "msg=input(\"Enter the message to be encrypted:\")\n",
    "enc_msg=\"\"\n",
    "inp_msg=msg.lower()\n",
    "for i in inp_msg:\n",
    "    if ord(i)>=97 and ord(i)<=122:\n",
    "        enc_msg=enc_msg+chr(123-ord(i)+96)\n",
    "    elif i==\" \":\n",
    "        enc_msg=enc_msg+\"$\"\n",
    "    else:\n",
    "        enc_msg=enc_msg+i\n",
    "print(f\"Encrypted Message : {enc_msg}\")"
   ]
  },
  {
   "cell_type": "code",
   "execution_count": null,
   "id": "0f0a4960-97e2-4d85-8b6e-b46d2b799995",
   "metadata": {},
   "outputs": [],
   "source": []
  }
 ],
 "metadata": {
  "kernelspec": {
   "display_name": "Python 3 (ipykernel)",
   "language": "python",
   "name": "python3"
  },
  "language_info": {
   "codemirror_mode": {
    "name": "ipython",
    "version": 3
   },
   "file_extension": ".py",
   "mimetype": "text/x-python",
   "name": "python",
   "nbconvert_exporter": "python",
   "pygments_lexer": "ipython3",
   "version": "3.10.8"
  }
 },
 "nbformat": 4,
 "nbformat_minor": 5
}
