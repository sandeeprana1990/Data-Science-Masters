{
 "cells": [
  {
   "cell_type": "markdown",
   "id": "bf4ac073-eef9-4095-97ce-8e6ad2261d6c",
   "metadata": {},
   "source": [
    "#### Question 1"
   ]
  },
  {
   "cell_type": "code",
   "execution_count": 5,
   "id": "9cee0edd-01ba-4470-beb6-8e09048b17e6",
   "metadata": {},
   "outputs": [],
   "source": [
    "# Q1, Create a vehicle class with an init method having instance variables as name_of_vehicle, max_speed\n",
    "# and average_of_vehicle."
   ]
  },
  {
   "cell_type": "markdown",
   "id": "c50666a4-d11f-4ef6-9f79-1e8edc628bdf",
   "metadata": {},
   "source": [
    "#### Solution 1"
   ]
  },
  {
   "cell_type": "code",
   "execution_count": 6,
   "id": "2300d0b1-8813-47b8-9094-520ad987f00e",
   "metadata": {},
   "outputs": [],
   "source": [
    "class vehicle:\n",
    "    def __init__(self,name_of_vehicle,max_speed,average_of_vehicle):\n",
    "        self.name_of_vehicle=name_of_vehicle\n",
    "        self.max_speed=max_speed\n",
    "        self.average_of_vehicle=average_of_vehicle"
   ]
  },
  {
   "cell_type": "markdown",
   "id": "0f370244-0564-4a8e-94ea-8c4a40dfe28e",
   "metadata": {},
   "source": [
    "#### Question 2"
   ]
  },
  {
   "cell_type": "code",
   "execution_count": 7,
   "id": "928fbd67-7134-4761-a9f2-f98ca59da990",
   "metadata": {},
   "outputs": [],
   "source": [
    "# Q2. Create a child class car from the vehicle class created in Que 1, which will inherit the vehicle class.\n",
    "# Create a method named seating_capacity which takes capacity as an argument and returns the name of\n",
    "# the vehicle and its seating capacity."
   ]
  },
  {
   "cell_type": "markdown",
   "id": "245e52f9-4342-4d49-bb0d-0fe1ded29824",
   "metadata": {},
   "source": [
    "#### Solution 2"
   ]
  },
  {
   "cell_type": "code",
   "execution_count": 8,
   "id": "9da01917-ce00-472a-802b-d96d54055518",
   "metadata": {},
   "outputs": [],
   "source": [
    "class car(vehicle):\n",
    "    def seating_capacity(self,capacity=5):\n",
    "        return \"Car : {} has seating capacity {}\".format(self.name_of_vehicle,capacity)"
   ]
  },
  {
   "cell_type": "code",
   "execution_count": 9,
   "id": "4eabaad3-58e0-4f15-9cb2-f88440d49b09",
   "metadata": {},
   "outputs": [
    {
     "data": {
      "text/plain": [
       "'Car : Punch has seating capacity 5'"
      ]
     },
     "execution_count": 9,
     "metadata": {},
     "output_type": "execute_result"
    }
   ],
   "source": [
    "car(\"Punch\",160,18).seating_capacity()"
   ]
  },
  {
   "cell_type": "markdown",
   "id": "0a0a346d-3b71-45dd-abfb-91602baf6fb5",
   "metadata": {},
   "source": [
    "#### Question 3"
   ]
  },
  {
   "cell_type": "code",
   "execution_count": 10,
   "id": "12fc957b-4e2d-4e52-a15e-f5b665748ec6",
   "metadata": {},
   "outputs": [],
   "source": [
    "# Q3. What is multiple inheritance? Write a python code to demonstrate multiple inheritance."
   ]
  },
  {
   "cell_type": "markdown",
   "id": "7e181369-7a42-4027-b89a-33997aa5eab7",
   "metadata": {},
   "source": [
    "#### Solution 3"
   ]
  },
  {
   "cell_type": "markdown",
   "id": "81f7ef39-d815-44cf-a67a-10aaaf825918",
   "metadata": {},
   "source": [
    "When a class inherits from multiple parent classes it is known as multiple inheritance. Thus the derived class inherits the features from multiple classes."
   ]
  },
  {
   "cell_type": "code",
   "execution_count": 11,
   "id": "251aca5a-e768-46ca-acd8-e6d1a22d7351",
   "metadata": {},
   "outputs": [
    {
     "name": "stdout",
     "output_type": "stream",
     "text": [
      "This is from class 1\n",
      "This is from class 2\n",
      "This is from class 3\n"
     ]
    }
   ],
   "source": [
    "## Python code to demonstrate multiple inheritance\n",
    "\n",
    "#base class1\n",
    "class class1:\n",
    "    def fun_c1(self):\n",
    "        print(\"This is from class 1\")\n",
    "\n",
    "#base class2\n",
    "class class2:\n",
    "    def fun_c2(self):\n",
    "        print(\"This is from class 2\")\n",
    "\n",
    "#derived class3; derived from 2 classes class1 and class2 \n",
    "class class3(class1,class2):\n",
    "    def fun_c3(self):\n",
    "        print(\"This is from class 3\")\n",
    "        \n",
    "#object of class3 able to access methods of class1 and class2\n",
    "obj_class3=class3()\n",
    "obj_class3.fun_c1()\n",
    "obj_class3.fun_c2()\n",
    "obj_class3.fun_c3()"
   ]
  },
  {
   "cell_type": "markdown",
   "id": "82a1c3e7-b217-4621-8510-179a77fb124c",
   "metadata": {},
   "source": [
    "#### Question 4"
   ]
  },
  {
   "cell_type": "code",
   "execution_count": 12,
   "id": "442c3e3a-8498-41e1-a786-ea2d84a91580",
   "metadata": {},
   "outputs": [],
   "source": [
    "# Q4. What are getter and setter in python? Create a class and create a getter and a setter method in this\n",
    "# class."
   ]
  },
  {
   "cell_type": "markdown",
   "id": "97beba1c-9201-4677-b622-92f4100adf66",
   "metadata": {},
   "source": [
    "#### Solution 4"
   ]
  },
  {
   "cell_type": "markdown",
   "id": "fc5e8203-63fa-4382-99e8-e483553ba84c",
   "metadata": {},
   "source": [
    "Getter and Setter in python helps to ensure encapsulation and are the property decorators. In case we have a private or protected variable and we wish to expose it to outer world. Then using property decorator which acts as a getter helps to expose it. Setter is utilized for allowing the user to set or modify the private or protected variables."
   ]
  },
  {
   "cell_type": "code",
   "execution_count": 13,
   "id": "e0de67b8-5972-4882-af56-908de6e86c9b",
   "metadata": {},
   "outputs": [],
   "source": [
    "#Creating a class and creating a getter and setter method in this class\n",
    "\n",
    "class ecom:\n",
    "    def __init__(self,item,price):\n",
    "        self.item=item\n",
    "        self.__price=price\n",
    "        \n",
    "    @property\n",
    "    def item_price_access(self):\n",
    "        return self.__price\n",
    "    \n",
    "    @item_price_access.setter\n",
    "    def item_price_set(self,new_price):\n",
    "        self.__price=new_price"
   ]
  },
  {
   "cell_type": "code",
   "execution_count": 14,
   "id": "3242dc1e-3314-47e2-b1dd-75903005b32b",
   "metadata": {},
   "outputs": [],
   "source": [
    "fkart=ecom(\"cloth\",260)"
   ]
  },
  {
   "cell_type": "code",
   "execution_count": 15,
   "id": "36d89e8e-908d-4645-91d9-0e8d93672532",
   "metadata": {},
   "outputs": [
    {
     "data": {
      "text/plain": [
       "'cloth'"
      ]
     },
     "execution_count": 15,
     "metadata": {},
     "output_type": "execute_result"
    }
   ],
   "source": [
    "fkart.item"
   ]
  },
  {
   "cell_type": "code",
   "execution_count": 16,
   "id": "7874f618-cbfb-4e68-a6cb-f5e4d22f4a35",
   "metadata": {},
   "outputs": [
    {
     "data": {
      "text/plain": [
       "260"
      ]
     },
     "execution_count": 16,
     "metadata": {},
     "output_type": "execute_result"
    }
   ],
   "source": [
    "# can access the price only using the item_price_access method\n",
    "fkart.item_price_access"
   ]
  },
  {
   "cell_type": "code",
   "execution_count": 17,
   "id": "6fc64760-0fc5-4bc8-9e4e-c025a3d74350",
   "metadata": {},
   "outputs": [],
   "source": [
    "# Setting new price for the item\n",
    "fkart.item_price_set=280"
   ]
  },
  {
   "cell_type": "code",
   "execution_count": 18,
   "id": "5939d286-2826-4e85-8c89-19027c16a01e",
   "metadata": {},
   "outputs": [
    {
     "data": {
      "text/plain": [
       "280"
      ]
     },
     "execution_count": 18,
     "metadata": {},
     "output_type": "execute_result"
    }
   ],
   "source": [
    "fkart.item_price_access"
   ]
  },
  {
   "cell_type": "markdown",
   "id": "e6f8f82b-ac18-4bcb-9943-af8bc60ff168",
   "metadata": {},
   "source": [
    "#### Question 5"
   ]
  },
  {
   "cell_type": "code",
   "execution_count": 20,
   "id": "1294cb8e-351c-401c-9aa2-08cd8b672c17",
   "metadata": {},
   "outputs": [],
   "source": [
    "# Q5.What is method overriding in python? Write a python code to demonstrate method overriding."
   ]
  },
  {
   "cell_type": "markdown",
   "id": "83cadb51-31fe-4e55-af46-5092b93feccd",
   "metadata": {},
   "source": [
    "#### Solution 5"
   ]
  },
  {
   "cell_type": "markdown",
   "id": "0bc487ea-42d5-43ca-bab5-cd22b324382a",
   "metadata": {},
   "source": [
    "Method overriding is a characteristic of object oriented programming in which the child class can implement a method that is already provided in the parent class with the same name, same arguments, same return type. In this scenario the method in the child class can override the method in the parent class.  Invoking of the method will depend upon with which object it is called with. If it is called along with the object of child class then the method in child class will be invoked and if it is used along with parent class object then the method in the parent class will be invoked. "
   ]
  },
  {
   "cell_type": "code",
   "execution_count": 21,
   "id": "8ef53d4b-583c-4ccf-8e35-316669e9d180",
   "metadata": {},
   "outputs": [
    {
     "name": "stdout",
     "output_type": "stream",
     "text": [
      "Method from c1 with num 12\n",
      "Method from c2 with num 14\n"
     ]
    }
   ],
   "source": [
    "# Python code to demonstarte method overriding\n",
    "class c1():\n",
    "    def __init__(self,num):\n",
    "        self.num=num\n",
    "    \n",
    "    def show(self):\n",
    "        print (f\"Method from c1 with num {self.num}\")\n",
    "\n",
    "class c2(c1):\n",
    "    \n",
    "    def show(self):\n",
    "        print (f\"Method from c2 with num {self.num}\")\n",
    "        \n",
    "ob1=c1(12)\n",
    "ob2=c2(14)\n",
    "\n",
    "ob1.show()\n",
    "ob2.show()"
   ]
  },
  {
   "cell_type": "code",
   "execution_count": null,
   "id": "743929f3-d73a-4633-9aac-1b31dba5d5a0",
   "metadata": {},
   "outputs": [],
   "source": []
  }
 ],
 "metadata": {
  "kernelspec": {
   "display_name": "Python 3 (ipykernel)",
   "language": "python",
   "name": "python3"
  },
  "language_info": {
   "codemirror_mode": {
    "name": "ipython",
    "version": 3
   },
   "file_extension": ".py",
   "mimetype": "text/x-python",
   "name": "python",
   "nbconvert_exporter": "python",
   "pygments_lexer": "ipython3",
   "version": "3.10.8"
  }
 },
 "nbformat": 4,
 "nbformat_minor": 5
}
